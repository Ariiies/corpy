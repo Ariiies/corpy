{
 "cells": [
  {
   "cell_type": "markdown",
   "metadata": {},
   "source": [
    "**-1. Import corpy, -2. Defines the corpus and -3. initializes the object.**"
   ]
  },
  {
   "cell_type": "code",
   "execution_count": 1,
   "metadata": {},
   "outputs": [],
   "source": [
    "from corpy import Corpy as cp\n",
    "\n",
    "corpus = [\"gengar is my favorite pokemon\",\n",
    "          \"i like the ghost type pokemon\",\n",
    "          \"mega gengar is the best mega evolution in pokemon\"]\n",
    "\n",
    "corpy = cp(corpus)"
   ]
  },
  {
   "cell_type": "markdown",
   "metadata": {},
   "source": [
    " **-4. Show the data. For get the data of corpus word's: Use Data function that got data like the number of times** \n",
    "  **that a specific word is used in some document or in many documents appears. This is a dictionary, so it works with indices.**"
   ]
  },
  {
   "cell_type": "code",
   "execution_count": 3,
   "metadata": {},
   "outputs": [
    {
     "name": "stdout",
     "output_type": "stream",
     "text": [
      "--- Data of some words ----\n",
      "the word \"pokemon\" exist in  3  documents\n",
      "the word \"mega\" appears in doc3 a total of  2  times\n",
      "all data about the word \"gengar = \" {'doc1': 1, 'doc2': 0, 'doc3': 1, 'total': 2, 'doc_freq': 2}\n"
     ]
    }
   ],
   "source": [
    "print(\"--- Data of some words ----\")\n",
    "print('the word \"pokemon\" exist in ',corpy.data['pokemon'][\"doc_freq\"], ' documents')\n",
    "print('the word \"mega\" appears in doc3 a total of ',corpy.data['mega']['doc3'], \" times\")\n",
    "print('all data about the word \"gengar = \"', corpy.data['gengar'])"
   ]
  },
  {
   "cell_type": "markdown",
   "metadata": {},
   "source": [
    " **Anoter example of Data.** "
   ]
  },
  {
   "cell_type": "code",
   "execution_count": 4,
   "metadata": {},
   "outputs": [
    {
     "name": "stdout",
     "output_type": "stream",
     "text": [
      "--- all Data ----\n",
      "word:  best\n",
      "Data --> {'doc1': 0, 'doc2': 0, 'doc3': 1, 'total': 1, 'doc_freq': 1}\n",
      "word:  evolution\n",
      "Data --> {'doc1': 0, 'doc2': 0, 'doc3': 1, 'total': 1, 'doc_freq': 1}\n",
      "word:  favorite\n",
      "Data --> {'doc1': 1, 'doc2': 0, 'doc3': 0, 'total': 1, 'doc_freq': 1}\n",
      "word:  gengar\n",
      "Data --> {'doc1': 1, 'doc2': 0, 'doc3': 1, 'total': 2, 'doc_freq': 2}\n",
      "word:  ghost\n",
      "Data --> {'doc1': 0, 'doc2': 1, 'doc3': 0, 'total': 1, 'doc_freq': 1}\n",
      "word:  i\n",
      "Data --> {'doc1': 0, 'doc2': 1, 'doc3': 0, 'total': 1, 'doc_freq': 1}\n",
      "word:  in\n",
      "Data --> {'doc1': 0, 'doc2': 0, 'doc3': 1, 'total': 1, 'doc_freq': 1}\n",
      "word:  is\n",
      "Data --> {'doc1': 1, 'doc2': 0, 'doc3': 1, 'total': 2, 'doc_freq': 2}\n",
      "word:  like\n",
      "Data --> {'doc1': 0, 'doc2': 1, 'doc3': 0, 'total': 1, 'doc_freq': 1}\n",
      "word:  mega\n",
      "Data --> {'doc1': 0, 'doc2': 0, 'doc3': 2, 'total': 2, 'doc_freq': 1}\n",
      "word:  my\n",
      "Data --> {'doc1': 1, 'doc2': 0, 'doc3': 0, 'total': 1, 'doc_freq': 1}\n",
      "word:  pokemon\n",
      "Data --> {'doc1': 1, 'doc2': 1, 'doc3': 1, 'total': 3, 'doc_freq': 3}\n",
      "word:  the\n",
      "Data --> {'doc1': 0, 'doc2': 1, 'doc3': 1, 'total': 2, 'doc_freq': 2}\n",
      "word:  type\n",
      "Data --> {'doc1': 0, 'doc2': 1, 'doc3': 0, 'total': 1, 'doc_freq': 1}\n"
     ]
    }
   ],
   "source": [
    "print(\"--- all Data ----\")\n",
    "for i in corpy.data:\n",
    "    print(\"word: \",i)\n",
    "    print(\"Data -->\",corpy.data[i])\n"
   ]
  },
  {
   "cell_type": "markdown",
   "metadata": {},
   "source": [
    "**An example of Data2.** "
   ]
  },
  {
   "cell_type": "code",
   "execution_count": 5,
   "metadata": {},
   "outputs": [
    {
     "name": "stdout",
     "output_type": "stream",
     "text": [
      "--- all Data 2 ----\n",
      "doc1 {'total': 5}\n",
      "doc2 {'total': 6}\n",
      "doc3 {'total': 9}\n",
      "all {'total': 20}\n"
     ]
    }
   ],
   "source": [
    "print(\"--- all Data 2 ----\")\n",
    "for i in corpy.doc_data:\n",
    "    print(i, corpy.doc_data[i])"
   ]
  }
 ],
 "metadata": {
  "kernelspec": {
   "display_name": "fast_api_2",
   "language": "python",
   "name": "python3"
  },
  "language_info": {
   "codemirror_mode": {
    "name": "ipython",
    "version": 3
   },
   "file_extension": ".py",
   "mimetype": "text/x-python",
   "name": "python",
   "nbconvert_exporter": "python",
   "pygments_lexer": "ipython3",
   "version": "3.11.3"
  }
 },
 "nbformat": 4,
 "nbformat_minor": 2
}
