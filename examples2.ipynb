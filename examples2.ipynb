{
 "cells": [
  {
   "cell_type": "markdown",
   "metadata": {},
   "source": [
    "**-1. Import corpy, -2. Defines the corpus and -3. initializes the object.**"
   ]
  },
  {
   "cell_type": "code",
   "execution_count": 2,
   "metadata": {},
   "outputs": [],
   "source": [
    "from corpy import Corpy as cp\n",
    "\n",
    "corpus = [\"gengar is my favorite pokemon\",\n",
    "          \"i like the ghost type pokemon\",\n",
    "          \"mega gengar is the best mega evolution in pokemon\"]\n",
    "\n",
    "corpy = cp(corpus)"
   ]
  },
  {
   "cell_type": "markdown",
   "metadata": {},
   "source": [
    "**To show the vocabulary.**"
   ]
  },
  {
   "cell_type": "code",
   "execution_count": 3,
   "metadata": {},
   "outputs": [
    {
     "name": "stdout",
     "output_type": "stream",
     "text": [
      "--- Vocabulary ----\n",
      "['best', 'evolution', 'favorite', 'gengar', 'ghost', 'i', 'in', 'is', 'like', 'mega', 'my', 'pokemon', 'the', 'type']\n"
     ]
    }
   ],
   "source": [
    "print(\"--- Vocabulary ----\")\n",
    "print(corpy.vocabulary)"
   ]
  },
  {
   "cell_type": "markdown",
   "metadata": {},
   "source": [
    "**To set vocabulary.**"
   ]
  },
  {
   "cell_type": "code",
   "execution_count": null,
   "metadata": {},
   "outputs": [
    {
     "name": "stdout",
     "output_type": "stream",
     "text": [
      "--- New Vocabulary ---\n",
      "['best', 'evolution', 'favorite', 'gengar', 'ghost', 'i', 'in', 'is', 'like', 'mega', 'my', 'pokemon', 'the', 'type', 'mewtwo']\n"
     ]
    }
   ],
   "source": [
    "new_vocabulary = corpy.vocabulary.copy()  \n",
    "new_vocabulary.append(\"mewtwo\")\n",
    "corpy.vocabulary = new_vocabulary  \n",
    "\n",
    "print(\"--- New Vocabulary ---\")\n",
    "print(corpy.vocabulary)"
   ]
  },
  {
   "cell_type": "markdown",
   "metadata": {},
   "source": [
    "**To show the corpus.**"
   ]
  },
  {
   "cell_type": "code",
   "execution_count": 4,
   "metadata": {},
   "outputs": [
    {
     "name": "stdout",
     "output_type": "stream",
     "text": [
      "--- Corpus ---\n",
      "['gengar is my favorite pokemon', 'i like the ghost type pokemon', 'mega gengar is the best mega evolution in pokemon']\n"
     ]
    }
   ],
   "source": [
    "print(\"--- Corpus ---\")\n",
    "print(corpy.corpus)\n"
   ]
  },
  {
   "cell_type": "markdown",
   "metadata": {},
   "source": [
    "**To set the corpus.**"
   ]
  },
  {
   "cell_type": "code",
   "execution_count": 5,
   "metadata": {},
   "outputs": [
    {
     "name": "stdout",
     "output_type": "stream",
     "text": [
      "--- new corpus ---\n",
      "['mewtwo is my favorite pokemon', 'i like the psysic type pokemon', 'mega mewtwo is the best mega evolution in pokemon']\n"
     ]
    }
   ],
   "source": [
    "corpus2 = [\"mewtwo is my favorite pokemon\",\n",
    "          \"i like the psysic type pokemon\",\n",
    "          \"mega mewtwo is the best mega evolution in pokemon\"]\n",
    "\n",
    "corpy.corpus = corpus2\n",
    "\n",
    "print(\"--- new corpus ---\")\n",
    "print(corpy.corpus)\n"
   ]
  },
  {
   "cell_type": "markdown",
   "metadata": {},
   "source": [
    "**If the corpus is setted, automatically the vocabulary is set too.**"
   ]
  },
  {
   "cell_type": "code",
   "execution_count": 6,
   "metadata": {},
   "outputs": [
    {
     "name": "stdout",
     "output_type": "stream",
     "text": [
      "--- new corpus means new vocabulary ---\n",
      "['best', 'evolution', 'favorite', 'i', 'in', 'is', 'like', 'mega', 'mewtwo', 'my', 'pokemon', 'psysic', 'the', 'type']\n"
     ]
    }
   ],
   "source": [
    "print(\"--- new corpus means new vocabulary ---\")\n",
    "print(corpy.vocabulary)\n"
   ]
  },
  {
   "cell_type": "markdown",
   "metadata": {},
   "source": [
    "**The Summary**"
   ]
  },
  {
   "cell_type": "code",
   "execution_count": 7,
   "metadata": {},
   "outputs": [
    {
     "data": {
      "text/plain": [
       "{'documents': 3,\n",
       " 'vocabulary_size': 14,\n",
       " 'total_words': 20,\n",
       " 'average_words_per_document': 6.67}"
      ]
     },
     "execution_count": 7,
     "metadata": {},
     "output_type": "execute_result"
    }
   ],
   "source": [
    "corpy.summary() "
   ]
  },
  {
   "cell_type": "markdown",
   "metadata": {},
   "source": [
    "**check object**"
   ]
  },
  {
   "cell_type": "code",
   "execution_count": 8,
   "metadata": {},
   "outputs": [
    {
     "name": "stdout",
     "output_type": "stream",
     "text": [
      "<Corpy Analyzer>\n",
      "- Documents: 3\n",
      "- Vocabulary Size: 14 unique words\n",
      "- Total Words: 20\n",
      "- Avg. Words per Document: 6.67\n"
     ]
    }
   ],
   "source": [
    "print(corpy)"
   ]
  }
 ],
 "metadata": {
  "kernelspec": {
   "display_name": "Python 3",
   "language": "python",
   "name": "python3"
  },
  "language_info": {
   "codemirror_mode": {
    "name": "ipython",
    "version": 3
   },
   "file_extension": ".py",
   "mimetype": "text/x-python",
   "name": "python",
   "nbconvert_exporter": "python",
   "pygments_lexer": "ipython3",
   "version": "3.13.0"
  }
 },
 "nbformat": 4,
 "nbformat_minor": 2
}
